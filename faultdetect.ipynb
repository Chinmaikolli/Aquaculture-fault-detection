{
  "nbformat": 4,
  "nbformat_minor": 0,
  "metadata": {
    "colab": {
      "name": "faultdetect.ipynb",
      "provenance": [],
      "collapsed_sections": []
    },
    "kernelspec": {
      "name": "python3",
      "display_name": "Python 3"
    },
    "accelerator": "TPU"
  },
  "cells": [
    {
      "cell_type": "code",
      "metadata": {
        "id": "lR0s2Iwf0p89",
        "colab_type": "code",
        "outputId": "c5c3f0e2-1560-4d5e-d42b-0fdbb4f1abef",
        "colab": {
          "base_uri": "https://localhost:8080/",
          "height": 33
        }
      },
      "source": [
        "from tensorflow import keras\n",
        "from tensorflow.keras import layers\n",
        "from keras.models import Sequential \n",
        "import numpy as np\n"
      ],
      "execution_count": 0,
      "outputs": [
        {
          "output_type": "stream",
          "text": [
            "Using TensorFlow backend.\n"
          ],
          "name": "stderr"
        }
      ]
    },
    {
      "cell_type": "code",
      "metadata": {
        "id": "h450eue2poS5",
        "colab_type": "code",
        "outputId": "90016919-91e1-483a-f789-8aef9474597f",
        "colab": {
          "base_uri": "https://localhost:8080/",
          "height": 683
        }
      },
      "source": [
        "#random number generation\n",
        "\n",
        "\n",
        "x1 = np.random.randint(0,2,size=(50000,5))\n",
        "x1_val = np.random.randint(0,2,size=(50000,5))\n",
        "\n",
        "\n",
        "y1 = np.random.randint(0,2,size=(50000, 5))\n",
        "y1_val = np.random.randint(0,2,size=(50000,5))\n",
        "\n",
        "# Fit on lists\n",
        "X = np.array(x1)\n",
        "#print(X.shape)\n",
        "#print(X)\n",
        "Y = np.array(y1)\n",
        "#print(Y.shape)\n",
        "\n",
        "\n",
        "Model = keras.Sequential()\n",
        "Model.add(layers.Dense(5,activation = 'relu',input_shape=(x1.shape[1],)))\n",
        "Model.add(layers.Dense(7,activation='relu'))\n",
        "Model.add(layers.Dense(7,activation='relu'))\n",
        "Model.add(layers.Dense(5,activation= 'softmax'))\n",
        "\n",
        "Model.compile(\n",
        "    optimizer=keras.optimizers.RMSprop(0.01),\n",
        "    loss= keras.losses.CategoricalCrossentropy(from_logits=True),metrics=['accuracy'])\n",
        "\n",
        "Model.fit( X,Y ,batch_size=32,epochs=5, validation_data=(x1_val, y1_val))\n"
      ],
      "execution_count": 0,
      "outputs": [
        {
          "output_type": "stream",
          "text": [
            "Epoch 1/20\n",
            "1563/1563 [==============================] - 4s 2ms/step - loss: 0.6982 - accuracy: 0.1869 - val_loss: 0.6978 - val_accuracy: 0.2529\n",
            "Epoch 2/20\n",
            "1563/1563 [==============================] - 3s 2ms/step - loss: 0.6981 - accuracy: 0.1342 - val_loss: 0.6978 - val_accuracy: 0.2529\n",
            "Epoch 3/20\n",
            "1563/1563 [==============================] - 4s 2ms/step - loss: 0.6981 - accuracy: 0.1894 - val_loss: 0.6978 - val_accuracy: 0.0617\n",
            "Epoch 4/20\n",
            "1563/1563 [==============================] - 3s 2ms/step - loss: 0.6982 - accuracy: 0.1475 - val_loss: 0.6978 - val_accuracy: 0.2529\n",
            "Epoch 5/20\n",
            "1563/1563 [==============================] - 3s 2ms/step - loss: 0.6981 - accuracy: 0.1929 - val_loss: 0.6978 - val_accuracy: 0.2529\n",
            "Epoch 6/20\n",
            "1563/1563 [==============================] - 3s 2ms/step - loss: 0.6981 - accuracy: 0.1923 - val_loss: 0.6978 - val_accuracy: 0.0314\n",
            "Epoch 7/20\n",
            "1563/1563 [==============================] - 3s 2ms/step - loss: 0.6981 - accuracy: 0.1449 - val_loss: 0.6978 - val_accuracy: 0.0314\n",
            "Epoch 8/20\n",
            "1563/1563 [==============================] - 3s 2ms/step - loss: 0.6981 - accuracy: 0.1704 - val_loss: 0.6978 - val_accuracy: 0.1217\n",
            "Epoch 9/20\n",
            "1563/1563 [==============================] - 3s 2ms/step - loss: 0.6981 - accuracy: 0.1723 - val_loss: 0.6978 - val_accuracy: 0.2529\n",
            "Epoch 10/20\n",
            "1563/1563 [==============================] - 3s 2ms/step - loss: 0.6981 - accuracy: 0.1987 - val_loss: 0.6978 - val_accuracy: 0.0314\n",
            "Epoch 11/20\n",
            "1563/1563 [==============================] - 3s 2ms/step - loss: 0.6981 - accuracy: 0.1462 - val_loss: 0.6978 - val_accuracy: 0.1217\n",
            "Epoch 12/20\n",
            "1563/1563 [==============================] - 3s 2ms/step - loss: 0.6981 - accuracy: 0.1968 - val_loss: 0.6978 - val_accuracy: 0.0314\n",
            "Epoch 13/20\n",
            "1563/1563 [==============================] - 3s 2ms/step - loss: 0.6981 - accuracy: 0.2171 - val_loss: 0.6979 - val_accuracy: 0.0314\n",
            "Epoch 14/20\n",
            "1563/1563 [==============================] - 3s 2ms/step - loss: 0.6982 - accuracy: 0.1547 - val_loss: 0.6978 - val_accuracy: 0.0314\n",
            "Epoch 15/20\n",
            "1563/1563 [==============================] - 3s 2ms/step - loss: 0.6981 - accuracy: 0.1569 - val_loss: 0.6978 - val_accuracy: 0.0314\n",
            "Epoch 16/20\n",
            "1563/1563 [==============================] - 3s 2ms/step - loss: 0.6981 - accuracy: 0.1592 - val_loss: 0.6978 - val_accuracy: 0.5323\n",
            "Epoch 17/20\n",
            "1563/1563 [==============================] - 3s 2ms/step - loss: 0.6982 - accuracy: 0.1706 - val_loss: 0.6978 - val_accuracy: 0.2529\n",
            "Epoch 18/20\n",
            "1563/1563 [==============================] - 3s 2ms/step - loss: 0.6981 - accuracy: 0.1989 - val_loss: 0.6978 - val_accuracy: 0.0314\n",
            "Epoch 19/20\n",
            "1563/1563 [==============================] - 3s 2ms/step - loss: 0.6981 - accuracy: 0.2056 - val_loss: 0.6978 - val_accuracy: 0.0314\n",
            "Epoch 20/20\n",
            "1563/1563 [==============================] - 3s 2ms/step - loss: 0.6981 - accuracy: 0.1440 - val_loss: 0.6978 - val_accuracy: 0.0314\n"
          ],
          "name": "stdout"
        },
        {
          "output_type": "execute_result",
          "data": {
            "text/plain": [
              "<tensorflow.python.keras.callbacks.History at 0x7f89b4ef7c50>"
            ]
          },
          "metadata": {
            "tags": []
          },
          "execution_count": 6
        }
      ]
    },
    {
      "cell_type": "code",
      "metadata": {
        "id": "Z6pT2zAZVTJg",
        "colab_type": "code",
        "outputId": "4e5144cb-0e30-41a1-df23-a9bfc597f0ec",
        "colab": {
          "base_uri": "https://localhost:8080/",
          "height": 277
        }
      },
      "source": [
        "Model.summary()"
      ],
      "execution_count": 0,
      "outputs": [
        {
          "output_type": "stream",
          "text": [
            "Model: \"sequential_4\"\n",
            "_________________________________________________________________\n",
            "Layer (type)                 Output Shape              Param #   \n",
            "=================================================================\n",
            "dense_16 (Dense)             (None, 5)                 30        \n",
            "_________________________________________________________________\n",
            "dense_17 (Dense)             (None, 7)                 42        \n",
            "_________________________________________________________________\n",
            "dense_18 (Dense)             (None, 7)                 56        \n",
            "_________________________________________________________________\n",
            "dense_19 (Dense)             (None, 5)                 40        \n",
            "=================================================================\n",
            "Total params: 168\n",
            "Trainable params: 168\n",
            "Non-trainable params: 0\n",
            "_________________________________________________________________\n"
          ],
          "name": "stdout"
        }
      ]
    },
    {
      "cell_type": "code",
      "metadata": {
        "id": "qZGaXopyd58s",
        "colab_type": "code",
        "outputId": "f6c002af-0f95-4f84-9fc1-38bf6c8b0010",
        "colab": {
          "base_uri": "https://localhost:8080/",
          "height": 466
        }
      },
      "source": [
        "keras.utils.plot_model(Model, \"Model.png\")"
      ],
      "execution_count": 0,
      "outputs": [
        {
          "output_type": "execute_result",
          "data": {
            "image/png": "[encoded data removed]",
            "text/plain": [
              "<IPython.core.display.Image object>"
            ]
          },
          "metadata": {
            "tags": []
          },
          "execution_count": 5
        }
      ]
    },
    {
      "cell_type": "code",
      "metadata": {
        "id": "3hxlEZMCxTaQ",
        "colab_type": "code",
        "colab": {}
      },
      "source": [
        ""
      ],
      "execution_count": 0,
      "outputs": []
    }
  ]
}