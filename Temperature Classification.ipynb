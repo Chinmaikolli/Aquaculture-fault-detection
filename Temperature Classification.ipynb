{
 "cells": [
  {
   "cell_type": "code",
   "execution_count": 1,
   "metadata": {},
   "outputs": [],
   "source": [
    "import pandas as pd\n",
    "import numpy as np\n",
    "import seaborn as sns"
   ]
  },
  {
   "cell_type": "code",
   "execution_count": 2,
   "metadata": {},
   "outputs": [],
   "source": [
    "df = pd.read_csv('NEW.csv')"
   ]
  },
  {
   "cell_type": "code",
   "execution_count": 3,
   "metadata": {},
   "outputs": [
    {
     "data": {
      "text/html": [
       "<div>\n",
       "<style scoped>\n",
       "    .dataframe tbody tr th:only-of-type {\n",
       "        vertical-align: middle;\n",
       "    }\n",
       "\n",
       "    .dataframe tbody tr th {\n",
       "        vertical-align: top;\n",
       "    }\n",
       "\n",
       "    .dataframe thead th {\n",
       "        text-align: right;\n",
       "    }\n",
       "</style>\n",
       "<table border=\"1\" class=\"dataframe\">\n",
       "  <thead>\n",
       "    <tr style=\"text-align: right;\">\n",
       "      <th></th>\n",
       "      <th>Temperature</th>\n",
       "      <th>Salinity</th>\n",
       "      <th>DO%</th>\n",
       "      <th>PH</th>\n",
       "      <th>Turbidity</th>\n",
       "    </tr>\n",
       "  </thead>\n",
       "  <tbody>\n",
       "    <tr>\n",
       "      <th>0</th>\n",
       "      <td>13.16</td>\n",
       "      <td>33.06</td>\n",
       "      <td>82.90</td>\n",
       "      <td>7.88</td>\n",
       "      <td>3.3</td>\n",
       "    </tr>\n",
       "    <tr>\n",
       "      <th>1</th>\n",
       "      <td>13.18</td>\n",
       "      <td>33.13</td>\n",
       "      <td>83.50</td>\n",
       "      <td>7.89</td>\n",
       "      <td>4.4</td>\n",
       "    </tr>\n",
       "    <tr>\n",
       "      <th>2</th>\n",
       "      <td>13.13</td>\n",
       "      <td>33.25</td>\n",
       "      <td>84.20</td>\n",
       "      <td>7.90</td>\n",
       "      <td>4.6</td>\n",
       "    </tr>\n",
       "    <tr>\n",
       "      <th>3</th>\n",
       "      <td>13.10</td>\n",
       "      <td>33.34</td>\n",
       "      <td>84.81</td>\n",
       "      <td>7.91</td>\n",
       "      <td>5.8</td>\n",
       "    </tr>\n",
       "    <tr>\n",
       "      <th>4</th>\n",
       "      <td>13.05</td>\n",
       "      <td>33.45</td>\n",
       "      <td>85.60</td>\n",
       "      <td>7.92</td>\n",
       "      <td>3.5</td>\n",
       "    </tr>\n",
       "  </tbody>\n",
       "</table>\n",
       "</div>"
      ],
      "text/plain": [
       "   Temperature  Salinity    DO%    PH  Turbidity\n",
       "0        13.16     33.06  82.90  7.88        3.3\n",
       "1        13.18     33.13  83.50  7.89        4.4\n",
       "2        13.13     33.25  84.20  7.90        4.6\n",
       "3        13.10     33.34  84.81  7.91        5.8\n",
       "4        13.05     33.45  85.60  7.92        3.5"
      ]
     },
     "execution_count": 3,
     "metadata": {},
     "output_type": "execute_result"
    }
   ],
   "source": [
    "df.head()"
   ]
  },
  {
   "cell_type": "code",
   "execution_count": 4,
   "metadata": {},
   "outputs": [],
   "source": [
    "import random"
   ]
  },
  {
   "cell_type": "code",
   "execution_count": 5,
   "metadata": {},
   "outputs": [],
   "source": [
    "df.dropna(inplace=True)"
   ]
  },
  {
   "cell_type": "code",
   "execution_count": 6,
   "metadata": {},
   "outputs": [
    {
     "name": "stdout",
     "output_type": "stream",
     "text": [
      "<class 'pandas.core.frame.DataFrame'>\n",
      "Int64Index: 39988 entries, 0 to 39997\n",
      "Data columns (total 5 columns):\n",
      "Temperature    39988 non-null float64\n",
      "Salinity       39988 non-null float64\n",
      "DO%            39988 non-null float64\n",
      "PH             39988 non-null float64\n",
      "Turbidity      39988 non-null float64\n",
      "dtypes: float64(5)\n",
      "memory usage: 1.8 MB\n"
     ]
    }
   ],
   "source": [
    "df.info()"
   ]
  },
  {
   "cell_type": "code",
   "execution_count": 7,
   "metadata": {},
   "outputs": [],
   "source": [
    "df_work = df"
   ]
  },
  {
   "cell_type": "code",
   "execution_count": 8,
   "metadata": {},
   "outputs": [],
   "source": [
    "df_work['label'] = 0"
   ]
  },
  {
   "cell_type": "code",
   "execution_count": 10,
   "metadata": {},
   "outputs": [
    {
     "data": {
      "text/html": [
       "<div>\n",
       "<style scoped>\n",
       "    .dataframe tbody tr th:only-of-type {\n",
       "        vertical-align: middle;\n",
       "    }\n",
       "\n",
       "    .dataframe tbody tr th {\n",
       "        vertical-align: top;\n",
       "    }\n",
       "\n",
       "    .dataframe thead th {\n",
       "        text-align: right;\n",
       "    }\n",
       "</style>\n",
       "<table border=\"1\" class=\"dataframe\">\n",
       "  <thead>\n",
       "    <tr style=\"text-align: right;\">\n",
       "      <th></th>\n",
       "      <th>Temperature</th>\n",
       "      <th>Salinity</th>\n",
       "      <th>DO%</th>\n",
       "      <th>PH</th>\n",
       "      <th>Turbidity</th>\n",
       "      <th>label</th>\n",
       "    </tr>\n",
       "  </thead>\n",
       "  <tbody>\n",
       "    <tr>\n",
       "      <th>0</th>\n",
       "      <td>13.16</td>\n",
       "      <td>33.06</td>\n",
       "      <td>82.90</td>\n",
       "      <td>7.88</td>\n",
       "      <td>3.3</td>\n",
       "      <td>0</td>\n",
       "    </tr>\n",
       "    <tr>\n",
       "      <th>1</th>\n",
       "      <td>13.18</td>\n",
       "      <td>33.13</td>\n",
       "      <td>83.50</td>\n",
       "      <td>7.89</td>\n",
       "      <td>4.4</td>\n",
       "      <td>0</td>\n",
       "    </tr>\n",
       "    <tr>\n",
       "      <th>2</th>\n",
       "      <td>13.13</td>\n",
       "      <td>33.25</td>\n",
       "      <td>84.20</td>\n",
       "      <td>7.90</td>\n",
       "      <td>4.6</td>\n",
       "      <td>0</td>\n",
       "    </tr>\n",
       "    <tr>\n",
       "      <th>3</th>\n",
       "      <td>13.10</td>\n",
       "      <td>33.34</td>\n",
       "      <td>84.81</td>\n",
       "      <td>7.91</td>\n",
       "      <td>5.8</td>\n",
       "      <td>0</td>\n",
       "    </tr>\n",
       "    <tr>\n",
       "      <th>4</th>\n",
       "      <td>13.05</td>\n",
       "      <td>33.45</td>\n",
       "      <td>85.60</td>\n",
       "      <td>7.92</td>\n",
       "      <td>3.5</td>\n",
       "      <td>0</td>\n",
       "    </tr>\n",
       "  </tbody>\n",
       "</table>\n",
       "</div>"
      ],
      "text/plain": [
       "   Temperature  Salinity    DO%    PH  Turbidity  label\n",
       "0        13.16     33.06  82.90  7.88        3.3      0\n",
       "1        13.18     33.13  83.50  7.89        4.4      0\n",
       "2        13.13     33.25  84.20  7.90        4.6      0\n",
       "3        13.10     33.34  84.81  7.91        5.8      0\n",
       "4        13.05     33.45  85.60  7.92        3.5      0"
      ]
     },
     "execution_count": 10,
     "metadata": {},
     "output_type": "execute_result"
    }
   ],
   "source": [
    "df_work.head()"
   ]
  },
  {
   "cell_type": "code",
   "execution_count": 11,
   "metadata": {},
   "outputs": [],
   "source": [
    "df_work = df_work[['Temperature','label']]"
   ]
  },
  {
   "cell_type": "code",
   "execution_count": 12,
   "metadata": {},
   "outputs": [
    {
     "data": {
      "text/html": [
       "<div>\n",
       "<style scoped>\n",
       "    .dataframe tbody tr th:only-of-type {\n",
       "        vertical-align: middle;\n",
       "    }\n",
       "\n",
       "    .dataframe tbody tr th {\n",
       "        vertical-align: top;\n",
       "    }\n",
       "\n",
       "    .dataframe thead th {\n",
       "        text-align: right;\n",
       "    }\n",
       "</style>\n",
       "<table border=\"1\" class=\"dataframe\">\n",
       "  <thead>\n",
       "    <tr style=\"text-align: right;\">\n",
       "      <th></th>\n",
       "      <th>Temperature</th>\n",
       "      <th>label</th>\n",
       "    </tr>\n",
       "  </thead>\n",
       "  <tbody>\n",
       "    <tr>\n",
       "      <th>0</th>\n",
       "      <td>13.16</td>\n",
       "      <td>0</td>\n",
       "    </tr>\n",
       "    <tr>\n",
       "      <th>1</th>\n",
       "      <td>13.18</td>\n",
       "      <td>0</td>\n",
       "    </tr>\n",
       "    <tr>\n",
       "      <th>2</th>\n",
       "      <td>13.13</td>\n",
       "      <td>0</td>\n",
       "    </tr>\n",
       "    <tr>\n",
       "      <th>3</th>\n",
       "      <td>13.10</td>\n",
       "      <td>0</td>\n",
       "    </tr>\n",
       "    <tr>\n",
       "      <th>4</th>\n",
       "      <td>13.05</td>\n",
       "      <td>0</td>\n",
       "    </tr>\n",
       "  </tbody>\n",
       "</table>\n",
       "</div>"
      ],
      "text/plain": [
       "   Temperature  label\n",
       "0        13.16      0\n",
       "1        13.18      0\n",
       "2        13.13      0\n",
       "3        13.10      0\n",
       "4        13.05      0"
      ]
     },
     "execution_count": 12,
     "metadata": {},
     "output_type": "execute_result"
    }
   ],
   "source": [
    "df_work.head()"
   ]
  },
  {
   "cell_type": "code",
   "execution_count": 13,
   "metadata": {
    "scrolled": true
   },
   "outputs": [
    {
     "data": {
      "text/html": [
       "<div>\n",
       "<style scoped>\n",
       "    .dataframe tbody tr th:only-of-type {\n",
       "        vertical-align: middle;\n",
       "    }\n",
       "\n",
       "    .dataframe tbody tr th {\n",
       "        vertical-align: top;\n",
       "    }\n",
       "\n",
       "    .dataframe thead th {\n",
       "        text-align: right;\n",
       "    }\n",
       "</style>\n",
       "<table border=\"1\" class=\"dataframe\">\n",
       "  <thead>\n",
       "    <tr style=\"text-align: right;\">\n",
       "      <th></th>\n",
       "      <th>Temperature</th>\n",
       "      <th>label</th>\n",
       "    </tr>\n",
       "  </thead>\n",
       "  <tbody>\n",
       "    <tr>\n",
       "      <th>count</th>\n",
       "      <td>39988.000000</td>\n",
       "      <td>39988.0</td>\n",
       "    </tr>\n",
       "    <tr>\n",
       "      <th>mean</th>\n",
       "      <td>23.628710</td>\n",
       "      <td>0.0</td>\n",
       "    </tr>\n",
       "    <tr>\n",
       "      <th>std</th>\n",
       "      <td>3.799761</td>\n",
       "      <td>0.0</td>\n",
       "    </tr>\n",
       "    <tr>\n",
       "      <th>min</th>\n",
       "      <td>5.170000</td>\n",
       "      <td>0.0</td>\n",
       "    </tr>\n",
       "    <tr>\n",
       "      <th>25%</th>\n",
       "      <td>21.840000</td>\n",
       "      <td>0.0</td>\n",
       "    </tr>\n",
       "    <tr>\n",
       "      <th>50%</th>\n",
       "      <td>24.420000</td>\n",
       "      <td>0.0</td>\n",
       "    </tr>\n",
       "    <tr>\n",
       "      <th>75%</th>\n",
       "      <td>26.320000</td>\n",
       "      <td>0.0</td>\n",
       "    </tr>\n",
       "    <tr>\n",
       "      <th>max</th>\n",
       "      <td>30.980000</td>\n",
       "      <td>0.0</td>\n",
       "    </tr>\n",
       "  </tbody>\n",
       "</table>\n",
       "</div>"
      ],
      "text/plain": [
       "        Temperature    label\n",
       "count  39988.000000  39988.0\n",
       "mean      23.628710      0.0\n",
       "std        3.799761      0.0\n",
       "min        5.170000      0.0\n",
       "25%       21.840000      0.0\n",
       "50%       24.420000      0.0\n",
       "75%       26.320000      0.0\n",
       "max       30.980000      0.0"
      ]
     },
     "execution_count": 13,
     "metadata": {},
     "output_type": "execute_result"
    }
   ],
   "source": [
    "df_work.describe()"
   ]
  },
  {
   "cell_type": "code",
   "execution_count": 14,
   "metadata": {},
   "outputs": [
    {
     "name": "stdout",
     "output_type": "stream",
     "text": [
      "[18.377013480871835, 32.91701072719369, 18.15508373730249, 40.5094987368563, 29.084120848526716, 40.14826721569804, 24.126176068461664, 9.721841048780622, 24.96155243935407, 30.031953121678974, 6.380121365251923, 1.6207578027883862, 44.41593478142, 13.357361138229207, 35.79604432562673, 12.728519141681204, 25.684122417404105, 2.869568161013131, 9.553728356234787, 29.124767241321486, 17.853715078765735, 49.316830168523914, 20.41157115840199, 8.381663372128456, 44.86580129639731, 1.3424208380980684, 30.76015978668261, 1.819826639412775, 48.99394322349194, 9.950421940386583, 48.11493623984994, 6.240098892787499, 12.99866618539034, 6.002519018498559, 2.4787600102197436, 28.962773117069656, 18.084983835125584, 14.28057038105377, 22.45151273799488, 7.520992428083756, 45.80663135944247, 1.9189543382934549, 27.10461353582477, 42.42216671341205, 44.87360991152749, 23.435400512969405, 7.309309874269621, 15.284125278049215, 32.17940332754326, 31.84564088543035, 29.021515557034693, 47.20162620705685, 11.438617759004844, 35.20236453282734, 2.2905305030019143, 0.19665729090680428, 18.944988167675707, 12.278305102938724, 24.81119078073013, 23.911926699254636, 9.459241771176929, 36.694583997874545, 7.461431777654476, 24.058017191493896, 38.37710829018172, 10.81854078768627, 39.943670552892115, 32.15115797303362, 0.28969850858812096, 13.136629529693172, 18.778311637678307, 13.635042388260665, 46.814112175935854, 35.669735889540085, 12.731078396214619, 5.177205398249818, 39.87268821276902, 41.23654687266623, 11.74366884530637, 33.17997297566597, 42.1626539650219, 38.367141199150126, 36.821020537536135, 11.803584310399795, 11.97646178317705, 38.59707637297074, 41.64432883458454, 44.641043952488666, 17.089122997753297, 25.597229029431034, 12.612294886729947, 10.893192655280831, 8.824008544004801, 32.90176912677602, 8.44860267895417, 48.34393845731125, 18.51470529180001, 29.25591011734914, 42.647637779155836, 41.598427194051126, 6.111485124868421, 29.063888364325805, 31.044027975890565, 1.335713884961609, 30.55017624357615, 11.497942589423282, 5.8214527951640225, 24.241398926653286, 36.87705208842808, 45.94829290471909, 3.967624613397147, 23.73735176063505, 28.679600901682033, 10.979902734086261, 14.329173328171436, 40.89377189832588, 29.868201113481778, 45.75569188171254, 30.14502218051413, 26.93708653490548, 7.052908959484977, 5.317485485229007, 34.55583271146136, 33.48577826886018, 9.431343771131589, 1.404988988153144, 40.86061186651623, 26.140745220698275, 25.9143264779024, 21.379391400890203, 26.269074455268115, 30.058180266917304, 1.9416510848033253, 42.8070074881451, 44.08277216390534, 31.697253479057114, 40.64488749059671, 7.930393053981427, 5.785444638834653, 46.63145261325783, 21.058656132191206, 21.557174390954824, 36.40306999486847, 32.1493107795773, 0.43519626809410683, 5.7641171355236445, 5.661080826386744, 11.669420166601924, 7.730737750770084, 29.71605824127788, 33.39686919410273, 47.82791192338843, 36.95812624325618, 32.633508812853215, 16.281479146227824, 7.683690431653767, 35.78431842926284, 2.7240652161597767, 42.636742767327995, 45.80079794308666, 36.458370477466, 36.539223219075474, 32.95869493402164, 46.65322279454705, 8.984086933135305, 5.0069446512746865, 11.569701172477965, 45.351437947481465, 4.426554699286422, 15.047593024843497, 47.42558005865263, 0.543439568490578, 27.794717678253956, 9.929128037479472, 20.985903107727637, 34.88905319084044, 5.257057119708936, 43.398680286541655, 13.932950445313757, 7.165757455172573, 21.586578680308783, 14.422037755663892, 49.044625865002715, 6.8474149642257345, 45.16401799100605, 11.172449307595794, 41.03529730794715, 36.8655359303025, 17.509560771603134, 38.35137545205695, 43.40989023876306, 24.009767402622316, 25.848542496623033, 44.6879535645184, 6.052258146909873, 31.429751837971885, 20.260342882973028, 12.371431829355334, 37.265838400035165, 26.07818054694983, 28.326445857234905, 11.219992457369255, 0.8232053206369105, 13.47001064173966, 11.929721754681793, 46.07871316506167, 9.072306990703478, 48.313151927083645, 47.861142386629105, 0.9412006979813703, 31.593352481191605, 28.69354640673739, 14.488188840212912, 19.551085599251937, 14.661517626076842, 44.12202175874542, 44.09535297651889, 12.429348285804032, 28.424754109345287, 13.563190137846941, 43.582126720477106, 41.261085958191956, 1.632604746631633, 40.36686597205463, 28.963164719923988, 38.72738808917147, 6.659718913401036, 37.62386063233745, 39.68230801927412, 39.21754864750187, 24.188498696485787, 23.417073857568425, 32.6179522306766, 44.34222769910164, 39.14766972970199, 45.84844788768409, 6.036136878511039, 8.704843249880712, 39.90588956149894, 45.27247972383029, 27.71725217490859, 23.610100543141332, 24.115110534340545, 46.491628776402784, 26.947424340299147, 33.51471934412136, 4.530509426049845, 13.343417745410886, 39.02256321426022, 3.695093244471137, 49.908014869400965, 20.400617879415634, 43.58859437410861, 30.907336660121594, 6.5166966656094445, 27.905928521383643, 45.913032558748895, 13.755369411544056, 44.30072412130382, 32.84298790156118, 24.997783733213353, 26.483138333219415, 7.961651480244858, 6.021775537396073, 34.533707846974366, 10.501680286056875, 1.9840450164887335, 42.31175514359544, 38.45050827662976, 38.85026229076824, 36.13635461576912, 29.68121149967319, 4.1464998959844905, 4.690435335671239, 24.461619842711446, 22.865251807055504, 13.009974208555464, 18.031984488187224, 13.924359892253923, 25.216738787211927, 42.60337912270427, 1.3271177318631033, 13.069052868643084, 0.704995236141992, 37.064579984553106, 38.35147174466176, 11.41508453104551, 35.241703012190605, 23.451114144014483, 11.177917187549335, 37.96483054084971, 23.75718483765292, 3.1868212482019986, 26.199616816681708, 8.62496052245348, 5.532922488888153, 35.00421608245351, 41.09376422294572, 12.260908266774035, 13.279743418573563, 43.969624271466515, 9.382629944803961, 48.12093222583259, 3.5210751451057956, 42.9324338816555, 31.86538305674695, 10.393622757474596, 26.474025507702, 48.35649547372141, 33.30145192401849, 9.785953125348096, 41.09457765762824, 2.0986550379356705, 33.50950046109834, 32.24978027072561, 4.19862141490317, 48.11044761257768, 45.25501233631353, 0.4964411165146454, 5.555332869049306, 7.946289295273723, 43.36451433438002, 48.87334491163876, 14.25789327233445, 32.155554378349386, 37.133433990365646, 11.985685590736445, 23.37165967555957, 1.5256296964811566, 13.827547178419758, 38.841737820884056, 1.3665277758134753, 10.033398891900585, 36.55542754638114, 32.2369303434186, 20.78301179838744, 42.175162995643774, 32.271688739200435, 8.958158354230605, 29.10948355026825, 47.227970085214096, 41.442213818754674, 45.962031893079995, 22.428642174255607, 42.41182149327649, 42.05611530094568, 9.606579718374043, 13.44904996302772, 47.73277617572551, 25.275889261963137, 28.479402082717975, 34.187285528539455, 39.845781603371535, 12.313189038859162, 31.791182814216945, 25.55260503294695, 35.06674590013875, 20.5028242669735, 3.053473516097227, 1.7102341314952196, 0.46058178144525175, 38.410948696665955, 46.1180845826372, 5.667703511115962, 4.720464138395236, 18.470555406979226, 18.069219535394186, 16.856645012058735, 42.27430034123171, 1.446558221511679, 35.691938850925425, 13.41234637702603, 6.501291218134064, 27.00617179539757, 23.015333122275948, 44.608004791610675, 49.65885641531162, 6.4930093035096945, 3.6549849294088057, 47.719376615371075, 25.913917177430353, 48.62640148011851, 48.51363560724782, 42.235597929001116, 7.379296479192515, 19.587293178994962, 45.0386474184575, 33.84877607468224, 38.64847937115133, 9.595860767354203, 47.895639580466664, 9.610402376093392, 2.2232207231343226, 9.733237283827362, 41.10764351516406, 31.408906905284056, 31.4090255932174, 29.559225948487512, 13.783577148964376, 29.22503909849811]\n"
     ]
    }
   ],
   "source": [
    "faults = []\n",
    "for i in range(400):\n",
    "    faults.append(random.uniform(0, 1))\n",
    "\n",
    "faults= [i*50 for i in faults]\n",
    "print(faults)"
   ]
  },
  {
   "cell_type": "code",
   "execution_count": 15,
   "metadata": {},
   "outputs": [
    {
     "data": {
      "text/html": [
       "<div>\n",
       "<style scoped>\n",
       "    .dataframe tbody tr th:only-of-type {\n",
       "        vertical-align: middle;\n",
       "    }\n",
       "\n",
       "    .dataframe tbody tr th {\n",
       "        vertical-align: top;\n",
       "    }\n",
       "\n",
       "    .dataframe thead th {\n",
       "        text-align: right;\n",
       "    }\n",
       "</style>\n",
       "<table border=\"1\" class=\"dataframe\">\n",
       "  <thead>\n",
       "    <tr style=\"text-align: right;\">\n",
       "      <th></th>\n",
       "      <th>Temperature</th>\n",
       "      <th>label</th>\n",
       "    </tr>\n",
       "  </thead>\n",
       "  <tbody>\n",
       "    <tr>\n",
       "      <th>0</th>\n",
       "      <td>13.16</td>\n",
       "      <td>0</td>\n",
       "    </tr>\n",
       "    <tr>\n",
       "      <th>1</th>\n",
       "      <td>13.18</td>\n",
       "      <td>0</td>\n",
       "    </tr>\n",
       "    <tr>\n",
       "      <th>2</th>\n",
       "      <td>13.13</td>\n",
       "      <td>0</td>\n",
       "    </tr>\n",
       "    <tr>\n",
       "      <th>3</th>\n",
       "      <td>13.10</td>\n",
       "      <td>0</td>\n",
       "    </tr>\n",
       "    <tr>\n",
       "      <th>4</th>\n",
       "      <td>13.05</td>\n",
       "      <td>0</td>\n",
       "    </tr>\n",
       "    <tr>\n",
       "      <th>5</th>\n",
       "      <td>12.92</td>\n",
       "      <td>0</td>\n",
       "    </tr>\n",
       "    <tr>\n",
       "      <th>6</th>\n",
       "      <td>12.86</td>\n",
       "      <td>0</td>\n",
       "    </tr>\n",
       "    <tr>\n",
       "      <th>7</th>\n",
       "      <td>12.80</td>\n",
       "      <td>0</td>\n",
       "    </tr>\n",
       "    <tr>\n",
       "      <th>8</th>\n",
       "      <td>12.79</td>\n",
       "      <td>0</td>\n",
       "    </tr>\n",
       "    <tr>\n",
       "      <th>9</th>\n",
       "      <td>12.86</td>\n",
       "      <td>0</td>\n",
       "    </tr>\n",
       "    <tr>\n",
       "      <th>10</th>\n",
       "      <td>12.60</td>\n",
       "      <td>0</td>\n",
       "    </tr>\n",
       "    <tr>\n",
       "      <th>11</th>\n",
       "      <td>12.58</td>\n",
       "      <td>0</td>\n",
       "    </tr>\n",
       "    <tr>\n",
       "      <th>12</th>\n",
       "      <td>12.56</td>\n",
       "      <td>0</td>\n",
       "    </tr>\n",
       "    <tr>\n",
       "      <th>13</th>\n",
       "      <td>12.50</td>\n",
       "      <td>0</td>\n",
       "    </tr>\n",
       "    <tr>\n",
       "      <th>14</th>\n",
       "      <td>12.49</td>\n",
       "      <td>0</td>\n",
       "    </tr>\n",
       "    <tr>\n",
       "      <th>15</th>\n",
       "      <td>12.51</td>\n",
       "      <td>0</td>\n",
       "    </tr>\n",
       "    <tr>\n",
       "      <th>16</th>\n",
       "      <td>12.13</td>\n",
       "      <td>0</td>\n",
       "    </tr>\n",
       "    <tr>\n",
       "      <th>17</th>\n",
       "      <td>12.03</td>\n",
       "      <td>0</td>\n",
       "    </tr>\n",
       "    <tr>\n",
       "      <th>18</th>\n",
       "      <td>11.98</td>\n",
       "      <td>0</td>\n",
       "    </tr>\n",
       "    <tr>\n",
       "      <th>19</th>\n",
       "      <td>11.88</td>\n",
       "      <td>0</td>\n",
       "    </tr>\n",
       "  </tbody>\n",
       "</table>\n",
       "</div>"
      ],
      "text/plain": [
       "    Temperature  label\n",
       "0         13.16      0\n",
       "1         13.18      0\n",
       "2         13.13      0\n",
       "3         13.10      0\n",
       "4         13.05      0\n",
       "5         12.92      0\n",
       "6         12.86      0\n",
       "7         12.80      0\n",
       "8         12.79      0\n",
       "9         12.86      0\n",
       "10        12.60      0\n",
       "11        12.58      0\n",
       "12        12.56      0\n",
       "13        12.50      0\n",
       "14        12.49      0\n",
       "15        12.51      0\n",
       "16        12.13      0\n",
       "17        12.03      0\n",
       "18        11.98      0\n",
       "19        11.88      0"
      ]
     },
     "execution_count": 15,
     "metadata": {},
     "output_type": "execute_result"
    }
   ],
   "source": [
    "df_work.head(20)"
   ]
  },
  {
   "cell_type": "code",
   "execution_count": 16,
   "metadata": {},
   "outputs": [
    {
     "name": "stdout",
     "output_type": "stream",
     "text": [
      "<class 'pandas.core.frame.DataFrame'>\n",
      "Int64Index: 39988 entries, 0 to 39997\n",
      "Data columns (total 2 columns):\n",
      "Temperature    39988 non-null float64\n",
      "label          39988 non-null int64\n",
      "dtypes: float64(1), int64(1)\n",
      "memory usage: 937.2 KB\n"
     ]
    }
   ],
   "source": [
    "df_work.info()"
   ]
  },
  {
   "cell_type": "code",
   "execution_count": 17,
   "metadata": {},
   "outputs": [],
   "source": [
    "for index,i in enumerate(df_work['Temperature']):\n",
    "    if(index%100)==0:\n",
    "        #print(index)\n",
    "        df_work.at[index,'Temperature'] = faults[index%400]\n",
    "        df_work.at[index,'label'] = 1"
   ]
  },
  {
   "cell_type": "code",
   "execution_count": 18,
   "metadata": {},
   "outputs": [
    {
     "data": {
      "text/plain": [
       "0    39588\n",
       "1      400\n",
       "Name: label, dtype: int64"
      ]
     },
     "execution_count": 18,
     "metadata": {},
     "output_type": "execute_result"
    }
   ],
   "source": [
    "df_work['label'].value_counts()"
   ]
  },
  {
   "cell_type": "code",
   "execution_count": 19,
   "metadata": {},
   "outputs": [],
   "source": [
    "X = df_work[['Temperature']]\n",
    "y = df_work['label']    \n"
   ]
  },
  {
   "cell_type": "code",
   "execution_count": 20,
   "metadata": {},
   "outputs": [],
   "source": [
    "from sklearn.model_selection import train_test_split\n",
    "X_train, X_test, y_train, y_test = train_test_split(X, y, test_size=0.3, random_state=1)"
   ]
  },
  {
   "cell_type": "code",
   "execution_count": 21,
   "metadata": {},
   "outputs": [],
   "source": [
    "from sklearn.tree import DecisionTreeClassifier\n",
    "from sklearn.metrics import accuracy_score "
   ]
  },
  {
   "cell_type": "code",
   "execution_count": 23,
   "metadata": {},
   "outputs": [],
   "source": [
    "clf = DecisionTreeClassifier()\n",
    "\n",
    "# Train Decision Tree Classifer\n",
    "clf = clf.fit(X_train,y_train)\n",
    "\n",
    "#Predict the response for test dataset\n",
    "y_pred = clf.predict(X_test)"
   ]
  },
  {
   "cell_type": "code",
   "execution_count": 29,
   "metadata": {},
   "outputs": [
    {
     "name": "stdout",
     "output_type": "stream",
     "text": [
      "0.9999166458281237\n",
      "[0, 0, 0, 0, 0, 0, 0, 0, 0, 0, 0, 0, 0, 0, 0, 0, 0, 0, 0, 0, 1, 0, 0, 0, 0, 0, 0, 0, 0, 0, 0, 0, 0, 0, 0, 0, 0, 0, 0, 0, 0, 0, 0, 0, 0, 0, 0, 0, 0, 0, 0, 0, 0, 0, 0, 0, 0, 0, 0, 0, 0, 0, 0, 0, 0, 0, 0, 0, 0, 0, 0, 0, 0, 0, 0, 0, 0, 0, 0, 0, 0, 0, 0, 0, 0, 0, 0, 0, 1, 0, 0, 0, 0, 0, 0, 0, 0, 0, 0, 0, 0, 0, 0, 0, 0, 0, 0, 0, 0, 0, 0, 0, 0, 0, 0, 0, 0, 0, 0, 0, 0, 0, 0, 0, 0, 0, 0, 0, 0, 0, 0, 0, 0, 0, 0, 0, 0, 0, 0, 0, 0, 0, 0, 0, 0, 0, 0, 0, 0, 0, 0, 0, 0, 0, 0, 0, 0, 0, 0, 0, 0, 0, 0, 0, 0, 0, 0, 0, 0, 0, 0, 1, 1, 0, 0, 0, 0, 0, 0, 0, 0, 0, 0, 0, 0, 0, 0, 0, 0, 0, 0, 0, 0, 0, 0, 0, 0, 0, 0, 0, 0, 0, 0, 0, 0, 0, 0, 0, 0, 0, 0, 0, 0, 0, 0, 0, 0, 0, 0, 0, 0, 0, 0, 0, 0, 0, 0, 0, 0, 0, 0, 0, 0, 0, 0, 0, 0, 0, 0, 0, 0, 0, 0, 0, 0, 0, 0, 0, 0, 0, 0, 0, 0, 0, 0, 0, 0, 0, 0, 0, 0, 0, 0, 0, 0, 0, 0, 0, 0, 0, 0, 0, 0, 0, 0, 0, 0, 0, 0, 0, 0, 0, 0, 0, 0, 0, 0, 0, 0, 0, 0, 0, 0, 0, 0, 0, 0, 0, 0, 0, 0, 0, 0, 0, 0, 0, 0, 0, 0, 0, 0, 0, 0, 0, 0, 0, 0, 0, 0, 0, 0, 0, 0, 0, 0, 0, 0, 0, 0, 0, 0, 0, 0, 0, 0, 0, 0, 0, 0, 0, 0, 0, 0, 0, 0, 0, 0, 0, 0, 0, 0, 0, 0, 0, 0, 0, 0, 0, 0, 0, 0, 0, 0, 0, 0, 0, 0, 0, 0, 0, 0, 0, 0, 0, 0, 0, 0, 0, 0, 0, 0, 0, 0, 0, 0, 0, 0, 0, 0, 0, 0, 0, 0, 0, 0, 1, 0, 0, 0, 0]\n",
      "[0 0 0 0 0 0 0 0 0 0 0 0 0 0 0 0 0 0 0 0 1 0 0 0 0 0 0 0 0 0 0 0 0 0 0 0 0\n",
      " 0 0 0 0 0 0 0 0 0 0 0 0 0 0 0 0 0 0 0 0 0 0 0 0 0 0 0 0 0 0 0 0 0 0 0 0 0\n",
      " 0 0 0 0 0 0 0 0 0 0 0 0 0 0 1 0 0 0 0 0 0 0 0 0 0 0 0 0 0 0 0 0 0 0 0 0 0\n",
      " 0 0 0 0 0 0 0 0 0 0 0 0 0 0 0 0 0 0 0 0 0 0 0 0 0 0 0 0 0 0 0 0 0 0 0 0 0\n",
      " 0 0 0 0 0 0 0 0 0 0 0 0 0 0 0 0 0 0 0 0 0 0 0 1 1 0 0 0 0 0 0 0 0 0 0 0 0\n",
      " 0 0 0 0 0 0 0 0 0 0 0 0 0 0 0 0 0 0 0 0 0 0 0 0 0 0 0 0 0 0 0 0 0 0 0 0 0\n",
      " 0 0 0 0 0 0 0 0 0 0 0 0 0 0 0 0 0 0 0 0 0 0 0 0 0 0 0 0 0 0 0 0 0 0 0 0 0\n",
      " 0 0 0 0 0 0 0 0 0 0 0 0 0 0 0 0 0 0 0 0 0 0 0 0 0 0 0 0 0 0 0 0 0 0 0 0 0\n",
      " 0 0 0 0 0 0 0 0 0 0 0 0 0 0 0 0 0 0 0 0 0 0 0 0 0 0 0 0 0 0 0 0 0 0 0 0 0\n",
      " 0 0 0 0 0 0 0 0 0 0 0 0 0 0 0 0 0 0 0 0 0 0 0 0 0 0 0 0 0 0 0 0 0 0 0 0 0\n",
      " 0 0 0 0 0 0 0 0 0 0 0 0 0 0 0 0 0 0 0 0 0 0 0 0 0 1 0 0 0 0]\n",
      "              precision    recall  f1-score   support\n",
      "\n",
      "           0       1.00      1.00      1.00     11872\n",
      "           1       0.99      1.00      1.00       125\n",
      "\n",
      "    accuracy                           1.00     11997\n",
      "   macro avg       1.00      1.00      1.00     11997\n",
      "weighted avg       1.00      1.00      1.00     11997\n",
      "\n",
      "0.9999166458281237\n",
      "0.9999578840970351\n"
     ]
    }
   ],
   "source": [
    "import sklearn\n",
    "print(accuracy_score(y_pred,y_test))\n",
    "print(list(y_test[0:400]))\n",
    "print(y_pred[0:400])\n",
    "#print(X_test[0:400])\n",
    "\n",
    "print(sklearn.metrics.classification_report(y_test,y_pred))\n",
    "print(accuracy_score(y_pred,y_test))\n",
    "print(sklearn.metrics.roc_auc_score(y_test,y_pred))"
   ]
  },
  {
   "cell_type": "code",
   "execution_count": 25,
   "metadata": {
    "scrolled": true
   },
   "outputs": [
    {
     "name": "stdout",
     "output_type": "stream",
     "text": [
      "[-4.98362645]\n",
      "[[0.01688879]]\n",
      "0.9895807285154622\n",
      "              precision    recall  f1-score   support\n",
      "\n",
      "           0       0.99      1.00      0.99     11872\n",
      "           1       0.00      0.00      0.00       125\n",
      "\n",
      "    accuracy                           0.99     11997\n",
      "   macro avg       0.49      0.50      0.50     11997\n",
      "weighted avg       0.98      0.99      0.98     11997\n",
      "\n",
      "0.5\n"
     ]
    },
    {
     "name": "stderr",
     "output_type": "stream",
     "text": [
      "C:\\Users\\KOLLICHINMAIVIGNYA\\Anaconda3\\lib\\site-packages\\sklearn\\metrics\\classification.py:1437: UndefinedMetricWarning: Precision and F-score are ill-defined and being set to 0.0 in labels with no predicted samples.\n",
      "  'precision', 'predicted', average, warn_for)\n"
     ]
    }
   ],
   "source": [
    "import sklearn as sk\n",
    "from sklearn.linear_model import LogisticRegression\n",
    "import numpy as np\n",
    "X = np.array(df_work['Temperature'])\n",
    "y = np.array(df_work['label'])\n",
    "X = X.reshape((-1,1))\n",
    "LR = LogisticRegression(random_state=1, solver='liblinear').fit(X,y)\n",
    "\n",
    "\n",
    "\n",
    "print(LR.intercept_)\n",
    "print(LR.coef_)\n",
    "\n",
    "lr = LR.predict(X_test)\n",
    "print(accuracy_score(y_test,lr))\n",
    "\n",
    "print(sklearn.metrics.classification_report(y_test,lr))\n",
    "print(sklearn.metrics.roc_auc_score(y_test,lr))"
   ]
  },
  {
   "cell_type": "code",
   "execution_count": 26,
   "metadata": {},
   "outputs": [
    {
     "name": "stdout",
     "output_type": "stream",
     "text": [
      "0.9895807285154622\n"
     ]
    },
    {
     "name": "stderr",
     "output_type": "stream",
     "text": [
      "C:\\Users\\KOLLICHINMAIVIGNYA\\Anaconda3\\lib\\site-packages\\sklearn\\svm\\base.py:929: ConvergenceWarning: Liblinear failed to converge, increase the number of iterations.\n",
      "  \"the number of iterations.\", ConvergenceWarning)\n"
     ]
    }
   ],
   "source": [
    "from sklearn import svm\n",
    "from sklearn import linear_model \n",
    "\n",
    "\n",
    "\n",
    "SVM = svm.LinearSVC(max_iter=10000)\n",
    "SVM.fit(X, y)\n",
    "\n",
    "s = SVM.predict(X_test)\n",
    "\n",
    "\n",
    "print(accuracy_score(s,y_test))\n"
   ]
  },
  {
   "cell_type": "code",
   "execution_count": 30,
   "metadata": {},
   "outputs": [
    {
     "name": "stdout",
     "output_type": "stream",
     "text": [
      "              precision    recall  f1-score   support\n",
      "\n",
      "           0       1.00      1.00      1.00     11872\n",
      "           1       1.00      1.00      1.00       125\n",
      "\n",
      "    accuracy                           1.00     11997\n",
      "   macro avg       1.00      1.00      1.00     11997\n",
      "weighted avg       1.00      1.00      1.00     11997\n",
      "\n",
      "1.0\n",
      "1.0\n"
     ]
    }
   ],
   "source": [
    "from sklearn.ensemble import RandomForestClassifier\n",
    "\n",
    "RF = RandomForestClassifier(n_estimators=1, max_depth=8, random_state=1)\n",
    "RF.fit(X, y)\n",
    "rf = RF.predict(X_test)\n",
    "accuracy_score(rf,y_test)\n",
    "print(sklearn.metrics.classification_report(y_test,rf))\n",
    "print(accuracy_score(rf,y_test))\n",
    "print(sklearn.metrics.roc_auc_score(y_test,rf))"
   ]
  },
  {
   "cell_type": "code",
   "execution_count": 28,
   "metadata": {},
   "outputs": [
    {
     "name": "stdout",
     "output_type": "stream",
     "text": [
      "              precision    recall  f1-score   support\n",
      "\n",
      "           0       0.99      1.00      0.99     11872\n",
      "           1       0.00      0.00      0.00       125\n",
      "\n",
      "    accuracy                           0.99     11997\n",
      "   macro avg       0.49      0.50      0.50     11997\n",
      "weighted avg       0.98      0.99      0.98     11997\n",
      "\n",
      "0.5\n"
     ]
    },
    {
     "name": "stderr",
     "output_type": "stream",
     "text": [
      "C:\\Users\\KOLLICHINMAIVIGNYA\\Anaconda3\\lib\\site-packages\\sklearn\\metrics\\classification.py:1437: UndefinedMetricWarning: Precision and F-score are ill-defined and being set to 0.0 in labels with no predicted samples.\n",
      "  'precision', 'predicted', average, warn_for)\n"
     ]
    }
   ],
   "source": [
    "import sklearn as sk\n",
    "from sklearn.neural_network import MLPClassifier\n",
    "\n",
    "NN = MLPClassifier(solver='lbfgs', alpha=1e-4, hidden_layer_sizes=(3, 3, 2), random_state=1)\n",
    "NN.fit(X_train, y_train)\n",
    "nn = NN.predict(X_test)\n",
    "round(NN.score(X,y), 4)\n",
    "print(sklearn.metrics.classification_report(y_test,nn))\n",
    "print(sklearn.metrics.roc_auc_score(y_test,nn))"
   ]
  },
  {
   "cell_type": "code",
   "execution_count": null,
   "metadata": {},
   "outputs": [],
   "source": []
  }
 ],
 "metadata": {
  "kernelspec": {
   "display_name": "Python 3",
   "language": "python",
   "name": "python3"
  },
  "language_info": {
   "codemirror_mode": {
    "name": "ipython",
    "version": 3
   },
   "file_extension": ".py",
   "mimetype": "text/x-python",
   "name": "python",
   "nbconvert_exporter": "python",
   "pygments_lexer": "ipython3",
   "version": "3.7.3"
  }
 },
 "nbformat": 4,
 "nbformat_minor": 4
}
